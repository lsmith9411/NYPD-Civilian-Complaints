{
 "cells": [
  {
   "cell_type": "code",
   "execution_count": 1,
   "metadata": {
    "ExecuteTime": {
     "end_time": "2024-03-18T14:20:57.257802Z",
     "start_time": "2024-03-18T14:20:50.242833Z"
    }
   },
   "outputs": [
    {
     "name": "stdout",
     "output_type": "stream",
     "text": [
      "Version:  0.0.25\n"
     ]
    }
   ],
   "source": [
    "#load packages\n",
    "import pandas as pd\n",
    "import numpy as np\n",
    "from sci378 import *"
   ]
  },
  {
   "cell_type": "code",
   "execution_count": 2,
   "metadata": {
    "ExecuteTime": {
     "end_time": "2024-03-18T14:21:02.263367Z",
     "start_time": "2024-03-18T14:21:01.864346Z"
    }
   },
   "outputs": [],
   "source": [
    "#read in data\n",
    "data=pd.read_csv(\"allegations_prime.csv\")\n",
    "pre_data=pd.read_csv(\"NYC_Precincts.csv\")"
   ]
  },
  {
   "cell_type": "code",
   "execution_count": 3,
   "metadata": {
    "ExecuteTime": {
     "end_time": "2024-03-18T14:21:03.186358Z",
     "start_time": "2024-03-18T14:21:03.096255Z"
    }
   },
   "outputs": [
    {
     "data": {
      "text/html": [
       "<div>\n",
       "<style scoped>\n",
       "    .dataframe tbody tr th:only-of-type {\n",
       "        vertical-align: middle;\n",
       "    }\n",
       "\n",
       "    .dataframe tbody tr th {\n",
       "        vertical-align: top;\n",
       "    }\n",
       "\n",
       "    .dataframe thead th {\n",
       "        text-align: right;\n",
       "    }\n",
       "</style>\n",
       "<table border=\"1\" class=\"dataframe\">\n",
       "  <thead>\n",
       "    <tr style=\"text-align: right;\">\n",
       "      <th></th>\n",
       "      <th>unique_mos_id</th>\n",
       "      <th>first_name</th>\n",
       "      <th>last_name</th>\n",
       "      <th>command_now</th>\n",
       "      <th>shield_no</th>\n",
       "      <th>complaint_id</th>\n",
       "      <th>month_received</th>\n",
       "      <th>year_received</th>\n",
       "      <th>month_closed</th>\n",
       "      <th>year_closed</th>\n",
       "      <th>...</th>\n",
       "      <th>mos_age_incident</th>\n",
       "      <th>complainant_ethnicity</th>\n",
       "      <th>complainant_gender</th>\n",
       "      <th>complainant_age_incident</th>\n",
       "      <th>fado_type</th>\n",
       "      <th>allegation</th>\n",
       "      <th>precinct</th>\n",
       "      <th>contact_reason</th>\n",
       "      <th>outcome_description</th>\n",
       "      <th>board_disposition</th>\n",
       "    </tr>\n",
       "  </thead>\n",
       "  <tbody>\n",
       "    <tr>\n",
       "      <th>0</th>\n",
       "      <td>10004</td>\n",
       "      <td>Jonathan</td>\n",
       "      <td>Ruiz</td>\n",
       "      <td>078 PCT</td>\n",
       "      <td>8409</td>\n",
       "      <td>42835</td>\n",
       "      <td>7</td>\n",
       "      <td>2019</td>\n",
       "      <td>5</td>\n",
       "      <td>2020</td>\n",
       "      <td>...</td>\n",
       "      <td>32</td>\n",
       "      <td>Black</td>\n",
       "      <td>Female</td>\n",
       "      <td>38.0</td>\n",
       "      <td>Abuse of Authority</td>\n",
       "      <td>Failure to provide RTKA card</td>\n",
       "      <td>78.0</td>\n",
       "      <td>Report-domestic dispute</td>\n",
       "      <td>No arrest made or summons issued</td>\n",
       "      <td>Substantiated (Command Lvl Instructions)</td>\n",
       "    </tr>\n",
       "    <tr>\n",
       "      <th>1</th>\n",
       "      <td>10007</td>\n",
       "      <td>John</td>\n",
       "      <td>Sears</td>\n",
       "      <td>078 PCT</td>\n",
       "      <td>5952</td>\n",
       "      <td>24601</td>\n",
       "      <td>11</td>\n",
       "      <td>2011</td>\n",
       "      <td>8</td>\n",
       "      <td>2012</td>\n",
       "      <td>...</td>\n",
       "      <td>24</td>\n",
       "      <td>Black</td>\n",
       "      <td>Male</td>\n",
       "      <td>26.0</td>\n",
       "      <td>Discourtesy</td>\n",
       "      <td>Action</td>\n",
       "      <td>67.0</td>\n",
       "      <td>Moving violation</td>\n",
       "      <td>Moving violation summons issued</td>\n",
       "      <td>Substantiated (Charges)</td>\n",
       "    </tr>\n",
       "  </tbody>\n",
       "</table>\n",
       "<p>2 rows × 27 columns</p>\n",
       "</div>"
      ],
      "text/plain": [
       "   unique_mos_id first_name last_name command_now  shield_no  complaint_id  \\\n",
       "0          10004   Jonathan      Ruiz     078 PCT       8409         42835   \n",
       "1          10007       John     Sears     078 PCT       5952         24601   \n",
       "\n",
       "   month_received  year_received  month_closed  year_closed  ...  \\\n",
       "0               7           2019             5         2020  ...   \n",
       "1              11           2011             8         2012  ...   \n",
       "\n",
       "  mos_age_incident complainant_ethnicity complainant_gender  \\\n",
       "0               32                 Black             Female   \n",
       "1               24                 Black               Male   \n",
       "\n",
       "  complainant_age_incident           fado_type                    allegation  \\\n",
       "0                     38.0  Abuse of Authority  Failure to provide RTKA card   \n",
       "1                     26.0         Discourtesy                        Action   \n",
       "\n",
       "  precinct           contact_reason               outcome_description  \\\n",
       "0     78.0  Report-domestic dispute  No arrest made or summons issued   \n",
       "1     67.0         Moving violation   Moving violation summons issued   \n",
       "\n",
       "                          board_disposition  \n",
       "0  Substantiated (Command Lvl Instructions)  \n",
       "1                   Substantiated (Charges)  \n",
       "\n",
       "[2 rows x 27 columns]"
      ]
     },
     "execution_count": 3,
     "metadata": {},
     "output_type": "execute_result"
    }
   ],
   "source": [
    "data.head(2)"
   ]
  },
  {
   "cell_type": "code",
   "execution_count": 4,
   "metadata": {
    "ExecuteTime": {
     "end_time": "2024-03-18T14:21:04.106924Z",
     "start_time": "2024-03-18T14:21:04.089619Z"
    }
   },
   "outputs": [
    {
     "data": {
      "text/html": [
       "<div>\n",
       "<style scoped>\n",
       "    .dataframe tbody tr th:only-of-type {\n",
       "        vertical-align: middle;\n",
       "    }\n",
       "\n",
       "    .dataframe tbody tr th {\n",
       "        vertical-align: top;\n",
       "    }\n",
       "\n",
       "    .dataframe thead th {\n",
       "        text-align: right;\n",
       "    }\n",
       "</style>\n",
       "<table border=\"1\" class=\"dataframe\">\n",
       "  <thead>\n",
       "    <tr style=\"text-align: right;\">\n",
       "      <th></th>\n",
       "      <th>Prec_Address</th>\n",
       "      <th>Prec_Borough</th>\n",
       "      <th>precinct</th>\n",
       "      <th>Latitude</th>\n",
       "      <th>Longitude</th>\n",
       "    </tr>\n",
       "  </thead>\n",
       "  <tbody>\n",
       "    <tr>\n",
       "      <th>0</th>\n",
       "      <td>16 Ericsson Place</td>\n",
       "      <td>Manhattan</td>\n",
       "      <td>1</td>\n",
       "      <td>40.720371</td>\n",
       "      <td>-74.007072</td>\n",
       "    </tr>\n",
       "    <tr>\n",
       "      <th>1</th>\n",
       "      <td>19 Elizabeth Street</td>\n",
       "      <td>Manhattan</td>\n",
       "      <td>5</td>\n",
       "      <td>40.716179</td>\n",
       "      <td>-73.997490</td>\n",
       "    </tr>\n",
       "  </tbody>\n",
       "</table>\n",
       "</div>"
      ],
      "text/plain": [
       "          Prec_Address Prec_Borough   precinct  Latitude   Longitude\n",
       "0    16 Ericsson Place     Manhattan         1  40.720371 -74.007072\n",
       "1  19 Elizabeth Street     Manhattan         5  40.716179 -73.997490"
      ]
     },
     "execution_count": 4,
     "metadata": {},
     "output_type": "execute_result"
    }
   ],
   "source": [
    "pre_data.head(2)"
   ]
  },
  {
   "cell_type": "code",
   "execution_count": 5,
   "metadata": {
    "ExecuteTime": {
     "end_time": "2024-03-18T14:21:04.886986Z",
     "start_time": "2024-03-18T14:21:04.875393Z"
    }
   },
   "outputs": [
    {
     "data": {
      "text/plain": [
       "Prec_Address      object\n",
       "Prec_Borough      object\n",
       "precinct           int64\n",
       "Latitude         float64\n",
       "Longitude        float64\n",
       "dtype: object"
      ]
     },
     "execution_count": 5,
     "metadata": {},
     "output_type": "execute_result"
    }
   ],
   "source": [
    "pre_data.dtypes"
   ]
  },
  {
   "cell_type": "code",
   "execution_count": 6,
   "metadata": {
    "ExecuteTime": {
     "end_time": "2024-03-18T14:21:05.652238Z",
     "start_time": "2024-03-18T14:21:05.642554Z"
    }
   },
   "outputs": [],
   "source": [
    "#data['precinct'] = data['precinct'].astype(str).str.replace('.0', '')\n",
    "#pre_data['precinct'] = pre_data['precinct'].astype(str)"
   ]
  },
  {
   "cell_type": "code",
   "execution_count": 7,
   "metadata": {
    "ExecuteTime": {
     "end_time": "2024-03-18T14:21:06.620325Z",
     "start_time": "2024-03-18T14:21:06.477255Z"
    }
   },
   "outputs": [
    {
     "data": {
      "text/html": [
       "<div>\n",
       "<style scoped>\n",
       "    .dataframe tbody tr th:only-of-type {\n",
       "        vertical-align: middle;\n",
       "    }\n",
       "\n",
       "    .dataframe tbody tr th {\n",
       "        vertical-align: top;\n",
       "    }\n",
       "\n",
       "    .dataframe thead th {\n",
       "        text-align: right;\n",
       "    }\n",
       "</style>\n",
       "<table border=\"1\" class=\"dataframe\">\n",
       "  <thead>\n",
       "    <tr style=\"text-align: right;\">\n",
       "      <th></th>\n",
       "      <th>unique_mos_id</th>\n",
       "      <th>first_name</th>\n",
       "      <th>last_name</th>\n",
       "      <th>command_now</th>\n",
       "      <th>shield_no</th>\n",
       "      <th>complaint_id</th>\n",
       "      <th>month_received</th>\n",
       "      <th>year_received</th>\n",
       "      <th>month_closed</th>\n",
       "      <th>year_closed</th>\n",
       "      <th>...</th>\n",
       "      <th>fado_type</th>\n",
       "      <th>allegation</th>\n",
       "      <th>precinct</th>\n",
       "      <th>contact_reason</th>\n",
       "      <th>outcome_description</th>\n",
       "      <th>board_disposition</th>\n",
       "      <th>Prec_Address</th>\n",
       "      <th>Prec_Borough</th>\n",
       "      <th>Latitude</th>\n",
       "      <th>Longitude</th>\n",
       "    </tr>\n",
       "  </thead>\n",
       "  <tbody>\n",
       "    <tr>\n",
       "      <th>0</th>\n",
       "      <td>10004</td>\n",
       "      <td>Jonathan</td>\n",
       "      <td>Ruiz</td>\n",
       "      <td>078 PCT</td>\n",
       "      <td>8409</td>\n",
       "      <td>42835</td>\n",
       "      <td>7</td>\n",
       "      <td>2019</td>\n",
       "      <td>5</td>\n",
       "      <td>2020</td>\n",
       "      <td>...</td>\n",
       "      <td>Abuse of Authority</td>\n",
       "      <td>Failure to provide RTKA card</td>\n",
       "      <td>78.0</td>\n",
       "      <td>Report-domestic dispute</td>\n",
       "      <td>No arrest made or summons issued</td>\n",
       "      <td>Substantiated (Command Lvl Instructions)</td>\n",
       "      <td>65 6th Avenue</td>\n",
       "      <td>Brooklyn</td>\n",
       "      <td>40.680572</td>\n",
       "      <td>-73.974312</td>\n",
       "    </tr>\n",
       "    <tr>\n",
       "      <th>1</th>\n",
       "      <td>10007</td>\n",
       "      <td>John</td>\n",
       "      <td>Sears</td>\n",
       "      <td>078 PCT</td>\n",
       "      <td>5952</td>\n",
       "      <td>24601</td>\n",
       "      <td>11</td>\n",
       "      <td>2011</td>\n",
       "      <td>8</td>\n",
       "      <td>2012</td>\n",
       "      <td>...</td>\n",
       "      <td>Discourtesy</td>\n",
       "      <td>Action</td>\n",
       "      <td>67.0</td>\n",
       "      <td>Moving violation</td>\n",
       "      <td>Moving violation summons issued</td>\n",
       "      <td>Substantiated (Charges)</td>\n",
       "      <td>2820 Snyder Avenue</td>\n",
       "      <td>Brooklyn</td>\n",
       "      <td>40.648688</td>\n",
       "      <td>-73.950335</td>\n",
       "    </tr>\n",
       "  </tbody>\n",
       "</table>\n",
       "<p>2 rows × 31 columns</p>\n",
       "</div>"
      ],
      "text/plain": [
       "   unique_mos_id first_name last_name command_now  shield_no  complaint_id  \\\n",
       "0          10004   Jonathan      Ruiz     078 PCT       8409         42835   \n",
       "1          10007       John     Sears     078 PCT       5952         24601   \n",
       "\n",
       "   month_received  year_received  month_closed  year_closed  ...  \\\n",
       "0               7           2019             5         2020  ...   \n",
       "1              11           2011             8         2012  ...   \n",
       "\n",
       "            fado_type                    allegation precinct  \\\n",
       "0  Abuse of Authority  Failure to provide RTKA card     78.0   \n",
       "1         Discourtesy                        Action     67.0   \n",
       "\n",
       "            contact_reason               outcome_description  \\\n",
       "0  Report-domestic dispute  No arrest made or summons issued   \n",
       "1         Moving violation   Moving violation summons issued   \n",
       "\n",
       "                          board_disposition        Prec_Address  \\\n",
       "0  Substantiated (Command Lvl Instructions)       65 6th Avenue   \n",
       "1                   Substantiated (Charges)  2820 Snyder Avenue   \n",
       "\n",
       "   Prec_Borough   Latitude   Longitude  \n",
       "0       Brooklyn  40.680572 -73.974312  \n",
       "1       Brooklyn  40.648688 -73.950335  \n",
       "\n",
       "[2 rows x 31 columns]"
      ]
     },
     "execution_count": 7,
     "metadata": {},
     "output_type": "execute_result"
    }
   ],
   "source": [
    "#joining precinct locations\n",
    "df = pd.merge(data, pre_data, on=['precinct'], how= 'left')\n",
    "df.head(2)"
   ]
  },
  {
   "cell_type": "code",
   "execution_count": 8,
   "metadata": {
    "ExecuteTime": {
     "end_time": "2024-03-18T14:21:07.339995Z",
     "start_time": "2024-03-18T14:21:07.330359Z"
    }
   },
   "outputs": [
    {
     "data": {
      "text/plain": [
       "33358"
      ]
     },
     "execution_count": 8,
     "metadata": {},
     "output_type": "execute_result"
    }
   ],
   "source": [
    "len(df)"
   ]
  },
  {
   "cell_type": "code",
   "execution_count": 9,
   "metadata": {
    "ExecuteTime": {
     "end_time": "2024-03-18T14:21:08.242651Z",
     "start_time": "2024-03-18T14:21:08.161086Z"
    }
   },
   "outputs": [
    {
     "data": {
      "text/plain": [
       "unique_mos_id                  0\n",
       "first_name                     0\n",
       "last_name                      0\n",
       "command_now                    0\n",
       "shield_no                      0\n",
       "complaint_id                   0\n",
       "month_received                 0\n",
       "year_received                  0\n",
       "month_closed                   0\n",
       "year_closed                    0\n",
       "command_at_incident         1544\n",
       "rank_abbrev_incident           0\n",
       "rank_abbrev_now                0\n",
       "rank_now                       0\n",
       "rank_incident                  0\n",
       "mos_ethnicity                  0\n",
       "mos_gender                     0\n",
       "mos_age_incident               0\n",
       "complainant_ethnicity       4464\n",
       "complainant_gender          4195\n",
       "complainant_age_incident    4812\n",
       "fado_type                      0\n",
       "allegation                     1\n",
       "precinct                      24\n",
       "contact_reason               199\n",
       "outcome_description           56\n",
       "board_disposition              0\n",
       "Prec_Address                  48\n",
       "Prec_Borough                  48\n",
       "Latitude                      48\n",
       "Longitude                     48\n",
       "dtype: int64"
      ]
     },
     "execution_count": 9,
     "metadata": {},
     "output_type": "execute_result"
    }
   ],
   "source": [
    "df.isnull().sum()"
   ]
  },
  {
   "cell_type": "code",
   "execution_count": 10,
   "metadata": {
    "ExecuteTime": {
     "end_time": "2024-03-18T14:21:09.435127Z",
     "start_time": "2024-03-18T14:21:09.002170Z"
    }
   },
   "outputs": [],
   "source": [
    "# concatenate month and year and assign 01 to the day to get a date column\n",
    "df['date_received'] = pd.to_datetime(df.year_received.astype(str) + '/' + df.month_received.astype(str) + '/01')\n",
    "df['date_closed'] = pd.to_datetime(df.year_closed.astype(str) + '/' + df.month_closed.astype(str) + '/01')"
   ]
  },
  {
   "cell_type": "code",
   "execution_count": 11,
   "metadata": {
    "ExecuteTime": {
     "end_time": "2024-03-18T14:21:10.060156Z",
     "start_time": "2024-03-18T14:21:09.976264Z"
    }
   },
   "outputs": [],
   "source": [
    "# replace black by african american and null with unknown\n",
    "# replace null in gender to unknown\n",
    "# replace null in outcome description to unknown\n",
    "# replace null in allegation to unknown\n",
    "# replace null in location and address to unknown\n",
    "df['complainant_ethnicity'] = df['complainant_ethnicity'].replace([np.nan, 'Black'], ['Unknown', 'African American'])\n",
    "df['mos_ethnicity'] = df['mos_ethnicity'].replace(['Black'], ['African American'])\n",
    "df['complainant_gender'] = df['complainant_gender'].replace([np.nan], ['Unknown'])\n",
    "df['outcome_description'] = df['outcome_description'].replace([np.nan], ['Unknown'])\n",
    "df['allegation'] = df['allegation'].replace([np.nan], ['Unknown'])\n",
    "df['Prec_Borough '] = df['Prec_Borough '].replace([np.nan], ['Unknown'])\n",
    "df['Prec_Address'] = df['Prec_Address'].replace([np.nan], ['Unknown'])"
   ]
  },
  {
   "cell_type": "code",
   "execution_count": 12,
   "metadata": {
    "ExecuteTime": {
     "end_time": "2024-03-18T14:21:11.014272Z",
     "start_time": "2024-03-18T14:21:10.910856Z"
    }
   },
   "outputs": [
    {
     "data": {
      "text/plain": [
       "unique_mos_id                  0\n",
       "first_name                     0\n",
       "last_name                      0\n",
       "command_now                    0\n",
       "shield_no                      0\n",
       "complaint_id                   0\n",
       "month_received                 0\n",
       "year_received                  0\n",
       "month_closed                   0\n",
       "year_closed                    0\n",
       "command_at_incident         1544\n",
       "rank_abbrev_incident           0\n",
       "rank_abbrev_now                0\n",
       "rank_now                       0\n",
       "rank_incident                  0\n",
       "mos_ethnicity                  0\n",
       "mos_gender                     0\n",
       "mos_age_incident               0\n",
       "complainant_ethnicity          0\n",
       "complainant_gender             0\n",
       "complainant_age_incident    4812\n",
       "fado_type                      0\n",
       "allegation                     0\n",
       "precinct                      24\n",
       "contact_reason               199\n",
       "outcome_description            0\n",
       "board_disposition              0\n",
       "Prec_Address                   0\n",
       "Prec_Borough                   0\n",
       "Latitude                      48\n",
       "Longitude                     48\n",
       "date_received                  0\n",
       "date_closed                    0\n",
       "dtype: int64"
      ]
     },
     "execution_count": 12,
     "metadata": {},
     "output_type": "execute_result"
    }
   ],
   "source": [
    "df.isnull().sum()"
   ]
  },
  {
   "cell_type": "code",
   "execution_count": 13,
   "metadata": {
    "ExecuteTime": {
     "end_time": "2024-03-18T14:21:12.118059Z",
     "start_time": "2024-03-18T14:21:11.855473Z"
    },
    "scrolled": true
   },
   "outputs": [
    {
     "data": {
      "text/html": [
       "<div>\n",
       "<style scoped>\n",
       "    .dataframe tbody tr th:only-of-type {\n",
       "        vertical-align: middle;\n",
       "    }\n",
       "\n",
       "    .dataframe tbody tr th {\n",
       "        vertical-align: top;\n",
       "    }\n",
       "\n",
       "    .dataframe thead th {\n",
       "        text-align: right;\n",
       "    }\n",
       "</style>\n",
       "<table border=\"1\" class=\"dataframe\">\n",
       "  <thead>\n",
       "    <tr style=\"text-align: right;\">\n",
       "      <th></th>\n",
       "      <th>unique_mos_id</th>\n",
       "      <th>first_name</th>\n",
       "      <th>last_name</th>\n",
       "      <th>command_now</th>\n",
       "      <th>shield_no</th>\n",
       "      <th>complaint_id</th>\n",
       "      <th>month_received</th>\n",
       "      <th>year_received</th>\n",
       "      <th>month_closed</th>\n",
       "      <th>year_closed</th>\n",
       "      <th>...</th>\n",
       "      <th>contact_reason</th>\n",
       "      <th>outcome_description</th>\n",
       "      <th>board_disposition</th>\n",
       "      <th>Prec_Address</th>\n",
       "      <th>Prec_Borough</th>\n",
       "      <th>Latitude</th>\n",
       "      <th>Longitude</th>\n",
       "      <th>date_received</th>\n",
       "      <th>date_closed</th>\n",
       "      <th>reason_for_contact</th>\n",
       "    </tr>\n",
       "  </thead>\n",
       "  <tbody>\n",
       "    <tr>\n",
       "      <th>0</th>\n",
       "      <td>10004</td>\n",
       "      <td>Jonathan</td>\n",
       "      <td>Ruiz</td>\n",
       "      <td>078 PCT</td>\n",
       "      <td>8409</td>\n",
       "      <td>42835</td>\n",
       "      <td>7</td>\n",
       "      <td>2019</td>\n",
       "      <td>5</td>\n",
       "      <td>2020</td>\n",
       "      <td>...</td>\n",
       "      <td>Report-domestic dispute</td>\n",
       "      <td>No arrest made or summons issued</td>\n",
       "      <td>Substantiated (Command Lvl Instructions)</td>\n",
       "      <td>65 6th Avenue</td>\n",
       "      <td>Brooklyn</td>\n",
       "      <td>40.680572</td>\n",
       "      <td>-73.974312</td>\n",
       "      <td>2019-07-01</td>\n",
       "      <td>2020-05-01</td>\n",
       "      <td>Report of Violation/Crime</td>\n",
       "    </tr>\n",
       "    <tr>\n",
       "      <th>1</th>\n",
       "      <td>10007</td>\n",
       "      <td>John</td>\n",
       "      <td>Sears</td>\n",
       "      <td>078 PCT</td>\n",
       "      <td>5952</td>\n",
       "      <td>24601</td>\n",
       "      <td>11</td>\n",
       "      <td>2011</td>\n",
       "      <td>8</td>\n",
       "      <td>2012</td>\n",
       "      <td>...</td>\n",
       "      <td>Moving violation</td>\n",
       "      <td>Moving violation summons issued</td>\n",
       "      <td>Substantiated (Charges)</td>\n",
       "      <td>2820 Snyder Avenue</td>\n",
       "      <td>Brooklyn</td>\n",
       "      <td>40.648688</td>\n",
       "      <td>-73.950335</td>\n",
       "      <td>2011-11-01</td>\n",
       "      <td>2012-08-01</td>\n",
       "      <td>Moving Violation</td>\n",
       "    </tr>\n",
       "    <tr>\n",
       "      <th>2</th>\n",
       "      <td>10007</td>\n",
       "      <td>John</td>\n",
       "      <td>Sears</td>\n",
       "      <td>078 PCT</td>\n",
       "      <td>5952</td>\n",
       "      <td>24601</td>\n",
       "      <td>11</td>\n",
       "      <td>2011</td>\n",
       "      <td>8</td>\n",
       "      <td>2012</td>\n",
       "      <td>...</td>\n",
       "      <td>Moving violation</td>\n",
       "      <td>Moving violation summons issued</td>\n",
       "      <td>Substantiated (Charges)</td>\n",
       "      <td>2820 Snyder Avenue</td>\n",
       "      <td>Brooklyn</td>\n",
       "      <td>40.648688</td>\n",
       "      <td>-73.950335</td>\n",
       "      <td>2011-11-01</td>\n",
       "      <td>2012-08-01</td>\n",
       "      <td>Moving Violation</td>\n",
       "    </tr>\n",
       "    <tr>\n",
       "      <th>3</th>\n",
       "      <td>10007</td>\n",
       "      <td>John</td>\n",
       "      <td>Sears</td>\n",
       "      <td>078 PCT</td>\n",
       "      <td>5952</td>\n",
       "      <td>26146</td>\n",
       "      <td>7</td>\n",
       "      <td>2012</td>\n",
       "      <td>9</td>\n",
       "      <td>2013</td>\n",
       "      <td>...</td>\n",
       "      <td>PD suspected C/V of violation/crime - street</td>\n",
       "      <td>No arrest made or summons issued</td>\n",
       "      <td>Substantiated (Charges)</td>\n",
       "      <td>2820 Snyder Avenue</td>\n",
       "      <td>Brooklyn</td>\n",
       "      <td>40.648688</td>\n",
       "      <td>-73.950335</td>\n",
       "      <td>2012-07-01</td>\n",
       "      <td>2013-09-01</td>\n",
       "      <td>PD suspected Violation/Crime</td>\n",
       "    </tr>\n",
       "    <tr>\n",
       "      <th>4</th>\n",
       "      <td>10009</td>\n",
       "      <td>Noemi</td>\n",
       "      <td>Sierra</td>\n",
       "      <td>078 PCT</td>\n",
       "      <td>24058</td>\n",
       "      <td>40253</td>\n",
       "      <td>8</td>\n",
       "      <td>2018</td>\n",
       "      <td>2</td>\n",
       "      <td>2019</td>\n",
       "      <td>...</td>\n",
       "      <td>Report-dispute</td>\n",
       "      <td>Arrest - other violation/crime</td>\n",
       "      <td>Substantiated (Command Discipline A)</td>\n",
       "      <td>2820 Snyder Avenue</td>\n",
       "      <td>Brooklyn</td>\n",
       "      <td>40.648688</td>\n",
       "      <td>-73.950335</td>\n",
       "      <td>2018-08-01</td>\n",
       "      <td>2019-02-01</td>\n",
       "      <td>Report of Violation/Crime</td>\n",
       "    </tr>\n",
       "  </tbody>\n",
       "</table>\n",
       "<p>5 rows × 34 columns</p>\n",
       "</div>"
      ],
      "text/plain": [
       "   unique_mos_id first_name last_name command_now  shield_no  complaint_id  \\\n",
       "0          10004   Jonathan      Ruiz     078 PCT       8409         42835   \n",
       "1          10007       John     Sears     078 PCT       5952         24601   \n",
       "2          10007       John     Sears     078 PCT       5952         24601   \n",
       "3          10007       John     Sears     078 PCT       5952         26146   \n",
       "4          10009      Noemi    Sierra     078 PCT      24058         40253   \n",
       "\n",
       "   month_received  year_received  month_closed  year_closed  ...  \\\n",
       "0               7           2019             5         2020  ...   \n",
       "1              11           2011             8         2012  ...   \n",
       "2              11           2011             8         2012  ...   \n",
       "3               7           2012             9         2013  ...   \n",
       "4               8           2018             2         2019  ...   \n",
       "\n",
       "                                 contact_reason  \\\n",
       "0                       Report-domestic dispute   \n",
       "1                              Moving violation   \n",
       "2                              Moving violation   \n",
       "3  PD suspected C/V of violation/crime - street   \n",
       "4                                Report-dispute   \n",
       "\n",
       "                outcome_description                         board_disposition  \\\n",
       "0  No arrest made or summons issued  Substantiated (Command Lvl Instructions)   \n",
       "1   Moving violation summons issued                   Substantiated (Charges)   \n",
       "2   Moving violation summons issued                   Substantiated (Charges)   \n",
       "3  No arrest made or summons issued                   Substantiated (Charges)   \n",
       "4    Arrest - other violation/crime      Substantiated (Command Discipline A)   \n",
       "\n",
       "         Prec_Address Prec_Borough   Latitude   Longitude  date_received  \\\n",
       "0       65 6th Avenue      Brooklyn  40.680572 -73.974312     2019-07-01   \n",
       "1  2820 Snyder Avenue      Brooklyn  40.648688 -73.950335     2011-11-01   \n",
       "2  2820 Snyder Avenue      Brooklyn  40.648688 -73.950335     2011-11-01   \n",
       "3  2820 Snyder Avenue      Brooklyn  40.648688 -73.950335     2012-07-01   \n",
       "4  2820 Snyder Avenue      Brooklyn  40.648688 -73.950335     2018-08-01   \n",
       "\n",
       "  date_closed            reason_for_contact  \n",
       "0  2020-05-01     Report of Violation/Crime  \n",
       "1  2012-08-01              Moving Violation  \n",
       "2  2012-08-01              Moving Violation  \n",
       "3  2013-09-01  PD suspected Violation/Crime  \n",
       "4  2019-02-01     Report of Violation/Crime  \n",
       "\n",
       "[5 rows x 34 columns]"
      ]
     },
     "execution_count": 13,
     "metadata": {},
     "output_type": "execute_result"
    }
   ],
   "source": [
    "# clean contact_reason column using 80 - 20 rule\n",
    "\n",
    "def reason_for_contact(contact_reason):\n",
    "    if isinstance(contact_reason, str): \n",
    "        if any(keyword in contact_reason for keyword in ['aided','Aided']):\n",
    "            return 'Aided Case'\n",
    "        elif any(keyword in contact_reason for keyword in ['suspected']):\n",
    "            return 'PD suspected Violation/Crime'\n",
    "        elif any(keyword in contact_reason for keyword in ['Traffic','Parking', 'VTL']):\n",
    "            return 'Vehicle/Traffic Violation'\n",
    "        elif any(keyword in contact_reason for keyword in ['Report','report']):\n",
    "            return 'Report of Violation/Crime'\n",
    "        elif any(keyword in contact_reason for keyword in ['arrest', 'Arrest', 'warrant']):\n",
    "            return 'Execution of Arrest/Warrant'\n",
    "        elif 'Moving violation' in contact_reason:\n",
    "            return 'Moving Violation'\n",
    "        else:\n",
    "            return 'Other'\n",
    "    else:\n",
    "        return None\n",
    "df['reason_for_contact'] = df['contact_reason'].apply(reason_for_contact)\n",
    "df.head()"
   ]
  },
  {
   "cell_type": "code",
   "execution_count": 14,
   "metadata": {
    "ExecuteTime": {
     "end_time": "2024-03-18T14:21:13.091841Z",
     "start_time": "2024-03-18T14:21:12.995025Z"
    },
    "scrolled": true
   },
   "outputs": [
    {
     "data": {
      "text/plain": [
       "unique_mos_id                  0\n",
       "first_name                     0\n",
       "last_name                      0\n",
       "command_now                    0\n",
       "shield_no                      0\n",
       "complaint_id                   0\n",
       "month_received                 0\n",
       "year_received                  0\n",
       "month_closed                   0\n",
       "year_closed                    0\n",
       "command_at_incident         1544\n",
       "rank_abbrev_incident           0\n",
       "rank_abbrev_now                0\n",
       "rank_now                       0\n",
       "rank_incident                  0\n",
       "mos_ethnicity                  0\n",
       "mos_gender                     0\n",
       "mos_age_incident               0\n",
       "complainant_ethnicity          0\n",
       "complainant_gender             0\n",
       "complainant_age_incident    4812\n",
       "fado_type                      0\n",
       "allegation                     0\n",
       "precinct                      24\n",
       "contact_reason               199\n",
       "outcome_description            0\n",
       "board_disposition              0\n",
       "Prec_Address                   0\n",
       "Prec_Borough                   0\n",
       "Latitude                      48\n",
       "Longitude                     48\n",
       "date_received                  0\n",
       "date_closed                    0\n",
       "reason_for_contact           199\n",
       "dtype: int64"
      ]
     },
     "execution_count": 14,
     "metadata": {},
     "output_type": "execute_result"
    }
   ],
   "source": [
    "df.isnull().sum()"
   ]
  },
  {
   "cell_type": "code",
   "execution_count": 15,
   "metadata": {
    "ExecuteTime": {
     "end_time": "2024-03-18T14:21:14.561720Z",
     "start_time": "2024-03-18T14:21:13.834500Z"
    },
    "scrolled": true
   },
   "outputs": [
    {
     "data": {
      "image/png": "[encoded data removed]",
      "text/plain": [
       "<Figure size 432x288 with 1 Axes>"
      ]
     },
     "metadata": {
      "needs_background": "light"
     },
     "output_type": "display_data"
    }
   ],
   "source": [
    "df['reason_for_contact'].value_counts().plot(kind='bar')\n",
    "plt.xlabel('Reason for Contact')\n",
    "plt.ylabel('Count')\n",
    "plt.title('Frequency of Reason for Contact')\n",
    "plt.show()"
   ]
  },
  {
   "cell_type": "code",
   "execution_count": 16,
   "metadata": {
    "ExecuteTime": {
     "end_time": "2024-03-18T14:21:14.796932Z",
     "start_time": "2024-03-18T14:21:14.763733Z"
    }
   },
   "outputs": [],
   "source": [
    "rank_map = {\n",
    "    \n",
    "    'Police Officer': 1,\n",
    "    'Sergeant':3,\n",
    "    'Detective':2,\n",
    "    'Lieutenant':6,\n",
    "    'Deputy Insepector':4,\n",
    "    'Inspector':5,\n",
    "    'Captain':7,\n",
    "    'Chiefs and other ranks':8\n",
    "}\n",
    "\n",
    "df['rank_num_now'] = df['rank_now'].map(rank_map)\n",
    "df['rank_num_incident'] = df['rank_incident'].map(rank_map)\n"
   ]
  },
  {
   "cell_type": "code",
   "execution_count": 17,
   "metadata": {
    "ExecuteTime": {
     "end_time": "2024-03-18T14:21:15.739532Z",
     "start_time": "2024-03-18T14:21:15.722248Z"
    }
   },
   "outputs": [
    {
     "name": "stdout",
     "output_type": "stream",
     "text": [
      "0.8920580804237314\n"
     ]
    }
   ],
   "source": [
    "average_difference = (df['rank_num_now'] - df['rank_num_incident']).mean()\n",
    "print(average_difference)"
   ]
  },
  {
   "cell_type": "code",
   "execution_count": 18,
   "metadata": {
    "ExecuteTime": {
     "end_time": "2024-03-18T14:21:16.269342Z",
     "start_time": "2024-03-18T14:21:16.218228Z"
    }
   },
   "outputs": [
    {
     "name": "stdout",
     "output_type": "stream",
     "text": [
      "Charges Average rank change:  1.0895202358616993\n"
     ]
    }
   ],
   "source": [
    "average_difference_substantiated = (df[df['board_disposition'] == 'Substantiated (Charges)']['rank_num_now'] - df[df['board_disposition'] == 'Substantiated (Charges)']['rank_num_incident']).mean()\n",
    "print(\"Charges Average rank change: \",average_difference_substantiated)\n"
   ]
  },
  {
   "cell_type": "code",
   "execution_count": 19,
   "metadata": {
    "ExecuteTime": {
     "end_time": "2024-03-18T14:21:16.752685Z",
     "start_time": "2024-03-18T14:21:16.702258Z"
    }
   },
   "outputs": [
    {
     "name": "stdout",
     "output_type": "stream",
     "text": [
      "Unsubstatinated rank change:  0.9168309026409145\n"
     ]
    }
   ],
   "source": [
    "average_difference_substantiated = (df[df['board_disposition'] == 'Unsubstantiated']['rank_num_now'] - df[df['board_disposition'] == 'Unsubstantiated']['rank_num_incident']).mean()\n",
    "print(\"Unsubstatinated rank change: \",average_difference_substantiated)\n"
   ]
  },
  {
   "cell_type": "code",
   "execution_count": 20,
   "metadata": {
    "ExecuteTime": {
     "end_time": "2024-03-18T14:21:17.219837Z",
     "start_time": "2024-03-18T14:21:17.180342Z"
    }
   },
   "outputs": [
    {
     "name": "stdout",
     "output_type": "stream",
     "text": [
      "Exonerated rank change:  0.9292907876603413\n"
     ]
    }
   ],
   "source": [
    "average_difference_substantiated = (df[df['board_disposition'] == 'Exonerated']['rank_num_now'] - df[df['board_disposition'] == 'Exonerated']['rank_num_incident']).mean()\n",
    "print(\"Exonerated rank change: \",average_difference_substantiated)"
   ]
  },
  {
   "cell_type": "code",
   "execution_count": 21,
   "metadata": {
    "ExecuteTime": {
     "end_time": "2024-03-18T14:21:17.738560Z",
     "start_time": "2024-03-18T14:21:17.713452Z"
    }
   },
   "outputs": [
    {
     "name": "stdout",
     "output_type": "stream",
     "text": [
      "Discipline A rank change:  0.3755274261603376\n"
     ]
    }
   ],
   "source": [
    "average_difference_substantiated = (df[df['board_disposition'] == 'Substantiated (Command Discipline A)']['rank_num_now'] - df[df['board_disposition'] == 'Substantiated (Command Discipline A)']['rank_num_incident']).mean()\n",
    "print(\"Discipline A rank change: \",average_difference_substantiated)"
   ]
  },
  {
   "cell_type": "code",
   "execution_count": 22,
   "metadata": {
    "ExecuteTime": {
     "end_time": "2024-03-18T14:21:18.224774Z",
     "start_time": "2024-03-18T14:21:18.194905Z"
    }
   },
   "outputs": [
    {
     "name": "stdout",
     "output_type": "stream",
     "text": [
      "Command Lvl Instructions rank change:  0.0772626931567329\n"
     ]
    }
   ],
   "source": [
    "average_difference_substantiated = (df[df['board_disposition'] == 'Substantiated (Command Lvl Instructions)']['rank_num_now'] - df[df['board_disposition'] == 'Substantiated (Command Lvl Instructions)']['rank_num_incident']).mean()\n",
    "print(\"Command Lvl Instructions rank change: \",average_difference_substantiated)"
   ]
  },
  {
   "cell_type": "code",
   "execution_count": 23,
   "metadata": {
    "ExecuteTime": {
     "end_time": "2024-03-18T14:21:18.680001Z",
     "start_time": "2024-03-18T14:21:18.652073Z"
    }
   },
   "outputs": [
    {
     "name": "stdout",
     "output_type": "stream",
     "text": [
      "Discipline B rank change:  0.3240152477763659\n"
     ]
    }
   ],
   "source": [
    "average_difference_substantiated = (df[df['board_disposition'] == 'Substantiated (Command Discipline B)']['rank_num_now'] - df[df['board_disposition'] == 'Substantiated (Command Discipline B)']['rank_num_incident']).mean()\n",
    "print(\"Discipline B rank change: \",average_difference_substantiated)"
   ]
  },
  {
   "cell_type": "code",
   "execution_count": 24,
   "metadata": {
    "ExecuteTime": {
     "end_time": "2024-03-18T14:21:19.669503Z",
     "start_time": "2024-03-18T14:21:19.636147Z"
    },
    "scrolled": true
   },
   "outputs": [
    {
     "name": "stdout",
     "output_type": "stream",
     "text": [
      "Discipline rank change:  1.1470937129300118\n"
     ]
    }
   ],
   "source": [
    "average_difference_substantiated = (df[df['board_disposition'] == 'Substantiated (Command Discipline)']['rank_num_now'] - df[df['board_disposition'] == 'Substantiated (Command Discipline)']['rank_num_incident']).mean()\n",
    "print(\"Discipline rank change: \",average_difference_substantiated)"
   ]
  },
  {
   "cell_type": "code",
   "execution_count": 25,
   "metadata": {
    "ExecuteTime": {
     "end_time": "2024-03-18T14:21:20.376729Z",
     "start_time": "2024-03-18T14:21:20.350683Z"
    }
   },
   "outputs": [
    {
     "name": "stdout",
     "output_type": "stream",
     "text": [
      "Formalized Training rank change:  0.35150925024342744\n"
     ]
    }
   ],
   "source": [
    "average_difference_substantiated = (df[df['board_disposition'] == 'Substantiated (Formalized Training)']['rank_num_now'] - df[df['board_disposition'] == 'Substantiated (Formalized Training)']['rank_num_incident']).mean()\n",
    "print(\"Formalized Training rank change: \",average_difference_substantiated)"
   ]
  },
  {
   "cell_type": "code",
   "execution_count": 26,
   "metadata": {
    "ExecuteTime": {
     "end_time": "2024-03-18T14:21:21.109198Z",
     "start_time": "2024-03-18T14:21:21.072404Z"
    }
   },
   "outputs": [
    {
     "name": "stdout",
     "output_type": "stream",
     "text": [
      "Instructions rank change:  1.0203252032520325\n"
     ]
    }
   ],
   "source": [
    "average_difference_substantiated = (df[df['board_disposition'] == 'Substantiated (Instructions)']['rank_num_now'] - df[df['board_disposition'] == 'Substantiated (Instructions)']['rank_num_incident']).mean()\n",
    "print(\"Instructions rank change: \",average_difference_substantiated)"
   ]
  },
  {
   "cell_type": "code",
   "execution_count": 27,
   "metadata": {
    "ExecuteTime": {
     "end_time": "2024-03-18T14:21:21.826484Z",
     "start_time": "2024-03-18T14:21:21.797436Z"
    }
   },
   "outputs": [
    {
     "name": "stdout",
     "output_type": "stream",
     "text": [
      "MOS Unidentified rank change:  5.0\n"
     ]
    }
   ],
   "source": [
    "average_difference_substantiated = (df[df['board_disposition'] == 'Substantiated (MOS Unidentified)']['rank_num_now'] - df[df['board_disposition'] == 'Substantiated (MOS Unidentified)']['rank_num_incident']).mean()\n",
    "print(\"MOS Unidentified rank change: \",average_difference_substantiated)"
   ]
  },
  {
   "cell_type": "code",
   "execution_count": 28,
   "metadata": {
    "ExecuteTime": {
     "end_time": "2024-03-18T14:21:22.848739Z",
     "start_time": "2024-03-18T14:21:22.816534Z"
    }
   },
   "outputs": [
    {
     "name": "stdout",
     "output_type": "stream",
     "text": [
      "No recommendations rank change:  1.8\n"
     ]
    }
   ],
   "source": [
    "average_difference_substantiated = (df[df['board_disposition'] == 'Substantiated (No Recommendations)']['rank_num_now'] - df[df['board_disposition'] == 'Substantiated (No Recommendations)']['rank_num_incident']).mean()\n",
    "print(\"No recommendations rank change: \",average_difference_substantiated)"
   ]
  },
  {
   "cell_type": "code",
   "execution_count": 29,
   "metadata": {
    "ExecuteTime": {
     "end_time": "2024-03-18T14:21:29.588014Z",
     "start_time": "2024-03-18T14:21:27.699776Z"
    }
   },
   "outputs": [
    {
     "name": "stdout",
     "output_type": "stream",
     "text": [
      "       unique_mos_id first_name last_name command_now  shield_no  \\\n",
      "0              10004   Jonathan      Ruiz     078 PCT       8409   \n",
      "1              10007       John     Sears     078 PCT       5952   \n",
      "2              10007       John     Sears     078 PCT       5952   \n",
      "3              10007       John     Sears     078 PCT       5952   \n",
      "4              10009      Noemi    Sierra     078 PCT      24058   \n",
      "...              ...        ...       ...         ...        ...   \n",
      "33353           9992     Tomasz  Pulawski     078 PCT       2642   \n",
      "33354           9992     Tomasz  Pulawski     078 PCT       2642   \n",
      "33355           9992     Tomasz  Pulawski     078 PCT       2642   \n",
      "33356           9992     Tomasz  Pulawski     078 PCT       2642   \n",
      "33357           9992     Tomasz  Pulawski     078 PCT       2642   \n",
      "\n",
      "       complaint_id  month_received  year_received  month_closed  year_closed  \\\n",
      "0             42835               7           2019             5         2020   \n",
      "1             24601              11           2011             8         2012   \n",
      "2             24601              11           2011             8         2012   \n",
      "3             26146               7           2012             9         2013   \n",
      "4             40253               8           2018             2         2019   \n",
      "...             ...             ...            ...           ...          ...   \n",
      "33353         35671               8           2016             2         2017   \n",
      "33354         35671               8           2016             2         2017   \n",
      "33355         35671               8           2016             2         2017   \n",
      "33356         35671               8           2016             2         2017   \n",
      "33357         35671               8           2016             2         2017   \n",
      "\n",
      "       ...        Prec_Address Prec_Borough   Latitude   Longitude  \\\n",
      "0      ...       65 6th Avenue      Brooklyn  40.680572 -73.974312   \n",
      "1      ...  2820 Snyder Avenue      Brooklyn  40.648688 -73.950335   \n",
      "2      ...  2820 Snyder Avenue      Brooklyn  40.648688 -73.950335   \n",
      "3      ...  2820 Snyder Avenue      Brooklyn  40.648688 -73.950335   \n",
      "4      ...  2820 Snyder Avenue      Brooklyn  40.648688 -73.950335   \n",
      "...    ...                 ...           ...        ...        ...   \n",
      "33353  ...    5822 16th Avenue      Brooklyn  40.625763 -73.991412   \n",
      "33354  ...    5822 16th Avenue      Brooklyn  40.625763 -73.991412   \n",
      "33355  ...    5822 16th Avenue      Brooklyn  40.625763 -73.991412   \n",
      "33356  ...    5822 16th Avenue      Brooklyn  40.625763 -73.991412   \n",
      "33357  ...    5822 16th Avenue      Brooklyn  40.625763 -73.991412   \n",
      "\n",
      "      date_received date_closed            reason_for_contact  rank_num_now  \\\n",
      "0        2019-07-01  2020-05-01     Report of Violation/Crime           1.0   \n",
      "1        2011-11-01  2012-08-01              Moving Violation           1.0   \n",
      "2        2011-11-01  2012-08-01              Moving Violation           1.0   \n",
      "3        2012-07-01  2013-09-01  PD suspected Violation/Crime           1.0   \n",
      "4        2018-08-01  2019-02-01     Report of Violation/Crime           1.0   \n",
      "...             ...         ...                           ...           ...   \n",
      "33353    2016-08-01  2017-02-01              Moving Violation           3.0   \n",
      "33354    2016-08-01  2017-02-01              Moving Violation           3.0   \n",
      "33355    2016-08-01  2017-02-01              Moving Violation           3.0   \n",
      "33356    2016-08-01  2017-02-01              Moving Violation           3.0   \n",
      "33357    2016-08-01  2017-02-01              Moving Violation           3.0   \n",
      "\n",
      "      rank_num_incident rank_change  \n",
      "0                   1.0         0.0  \n",
      "1                   1.0         0.0  \n",
      "2                   1.0         0.0  \n",
      "3                   1.0         0.0  \n",
      "4                   1.0         0.0  \n",
      "...                 ...         ...  \n",
      "33353               1.0         2.0  \n",
      "33354               1.0         2.0  \n",
      "33355               1.0         2.0  \n",
      "33356               1.0         2.0  \n",
      "33357               1.0         2.0  \n",
      "\n",
      "[33358 rows x 37 columns]\n"
     ]
    }
   ],
   "source": [
    "def get_rank_change(row):\n",
    "    if row['rank_num_now'] > row['rank_num_incident']:\n",
    "        return  row['rank_num_now'] - row['rank_num_incident']\n",
    "    elif row['rank_num_now'] < row['rank_num_incident']:\n",
    "        return row['rank_num_now'] - row['rank_num_incident']\n",
    "    else:\n",
    "        return 0\n",
    "\n",
    "df['rank_change'] = df.apply(get_rank_change, axis=1)\n",
    "print(df)"
   ]
  },
  {
   "cell_type": "code",
   "execution_count": 30,
   "metadata": {
    "ExecuteTime": {
     "end_time": "2024-03-18T14:21:31.874855Z",
     "start_time": "2024-03-18T14:21:31.798318Z"
    },
    "scrolled": true
   },
   "outputs": [
    {
     "data": {
      "text/html": [
       "<div>\n",
       "<style scoped>\n",
       "    .dataframe tbody tr th:only-of-type {\n",
       "        vertical-align: middle;\n",
       "    }\n",
       "\n",
       "    .dataframe tbody tr th {\n",
       "        vertical-align: top;\n",
       "    }\n",
       "\n",
       "    .dataframe thead th {\n",
       "        text-align: right;\n",
       "    }\n",
       "</style>\n",
       "<table border=\"1\" class=\"dataframe\">\n",
       "  <thead>\n",
       "    <tr style=\"text-align: right;\">\n",
       "      <th></th>\n",
       "      <th>command_now</th>\n",
       "      <th>month_received</th>\n",
       "      <th>year_received</th>\n",
       "      <th>month_closed</th>\n",
       "      <th>year_closed</th>\n",
       "      <th>command_at_incident</th>\n",
       "      <th>rank_abbrev_incident</th>\n",
       "      <th>rank_abbrev_now</th>\n",
       "      <th>mos_ethnicity</th>\n",
       "      <th>mos_gender</th>\n",
       "      <th>...</th>\n",
       "      <th>contact_reason</th>\n",
       "      <th>outcome_description</th>\n",
       "      <th>board_disposition</th>\n",
       "      <th>Prec_Borough</th>\n",
       "      <th>date_received</th>\n",
       "      <th>date_closed</th>\n",
       "      <th>reason_for_contact</th>\n",
       "      <th>rank_num_now</th>\n",
       "      <th>rank_num_incident</th>\n",
       "      <th>rank_change</th>\n",
       "    </tr>\n",
       "  </thead>\n",
       "  <tbody>\n",
       "    <tr>\n",
       "      <th>0</th>\n",
       "      <td>078 PCT</td>\n",
       "      <td>7</td>\n",
       "      <td>2019</td>\n",
       "      <td>5</td>\n",
       "      <td>2020</td>\n",
       "      <td>078 PCT</td>\n",
       "      <td>POM</td>\n",
       "      <td>POM</td>\n",
       "      <td>Hispanic</td>\n",
       "      <td>M</td>\n",
       "      <td>...</td>\n",
       "      <td>Report-domestic dispute</td>\n",
       "      <td>No arrest made or summons issued</td>\n",
       "      <td>Substantiated (Command Lvl Instructions)</td>\n",
       "      <td>Brooklyn</td>\n",
       "      <td>2019-07-01</td>\n",
       "      <td>2020-05-01</td>\n",
       "      <td>Report of Violation/Crime</td>\n",
       "      <td>1.0</td>\n",
       "      <td>1.0</td>\n",
       "      <td>0.0</td>\n",
       "    </tr>\n",
       "    <tr>\n",
       "      <th>1</th>\n",
       "      <td>078 PCT</td>\n",
       "      <td>11</td>\n",
       "      <td>2011</td>\n",
       "      <td>8</td>\n",
       "      <td>2012</td>\n",
       "      <td>PBBS</td>\n",
       "      <td>POM</td>\n",
       "      <td>POM</td>\n",
       "      <td>White</td>\n",
       "      <td>M</td>\n",
       "      <td>...</td>\n",
       "      <td>Moving violation</td>\n",
       "      <td>Moving violation summons issued</td>\n",
       "      <td>Substantiated (Charges)</td>\n",
       "      <td>Brooklyn</td>\n",
       "      <td>2011-11-01</td>\n",
       "      <td>2012-08-01</td>\n",
       "      <td>Moving Violation</td>\n",
       "      <td>1.0</td>\n",
       "      <td>1.0</td>\n",
       "      <td>0.0</td>\n",
       "    </tr>\n",
       "    <tr>\n",
       "      <th>2</th>\n",
       "      <td>078 PCT</td>\n",
       "      <td>11</td>\n",
       "      <td>2011</td>\n",
       "      <td>8</td>\n",
       "      <td>2012</td>\n",
       "      <td>PBBS</td>\n",
       "      <td>POM</td>\n",
       "      <td>POM</td>\n",
       "      <td>White</td>\n",
       "      <td>M</td>\n",
       "      <td>...</td>\n",
       "      <td>Moving violation</td>\n",
       "      <td>Moving violation summons issued</td>\n",
       "      <td>Substantiated (Charges)</td>\n",
       "      <td>Brooklyn</td>\n",
       "      <td>2011-11-01</td>\n",
       "      <td>2012-08-01</td>\n",
       "      <td>Moving Violation</td>\n",
       "      <td>1.0</td>\n",
       "      <td>1.0</td>\n",
       "      <td>0.0</td>\n",
       "    </tr>\n",
       "    <tr>\n",
       "      <th>3</th>\n",
       "      <td>078 PCT</td>\n",
       "      <td>7</td>\n",
       "      <td>2012</td>\n",
       "      <td>9</td>\n",
       "      <td>2013</td>\n",
       "      <td>PBBS</td>\n",
       "      <td>POM</td>\n",
       "      <td>POM</td>\n",
       "      <td>White</td>\n",
       "      <td>M</td>\n",
       "      <td>...</td>\n",
       "      <td>PD suspected C/V of violation/crime - street</td>\n",
       "      <td>No arrest made or summons issued</td>\n",
       "      <td>Substantiated (Charges)</td>\n",
       "      <td>Brooklyn</td>\n",
       "      <td>2012-07-01</td>\n",
       "      <td>2013-09-01</td>\n",
       "      <td>PD suspected Violation/Crime</td>\n",
       "      <td>1.0</td>\n",
       "      <td>1.0</td>\n",
       "      <td>0.0</td>\n",
       "    </tr>\n",
       "    <tr>\n",
       "      <th>4</th>\n",
       "      <td>078 PCT</td>\n",
       "      <td>8</td>\n",
       "      <td>2018</td>\n",
       "      <td>2</td>\n",
       "      <td>2019</td>\n",
       "      <td>078 PCT</td>\n",
       "      <td>POF</td>\n",
       "      <td>POF</td>\n",
       "      <td>Hispanic</td>\n",
       "      <td>F</td>\n",
       "      <td>...</td>\n",
       "      <td>Report-dispute</td>\n",
       "      <td>Arrest - other violation/crime</td>\n",
       "      <td>Substantiated (Command Discipline A)</td>\n",
       "      <td>Brooklyn</td>\n",
       "      <td>2018-08-01</td>\n",
       "      <td>2019-02-01</td>\n",
       "      <td>Report of Violation/Crime</td>\n",
       "      <td>1.0</td>\n",
       "      <td>1.0</td>\n",
       "      <td>0.0</td>\n",
       "    </tr>\n",
       "  </tbody>\n",
       "</table>\n",
       "<p>5 rows × 25 columns</p>\n",
       "</div>"
      ],
      "text/plain": [
       "  command_now  month_received  year_received  month_closed  year_closed  \\\n",
       "0     078 PCT               7           2019             5         2020   \n",
       "1     078 PCT              11           2011             8         2012   \n",
       "2     078 PCT              11           2011             8         2012   \n",
       "3     078 PCT               7           2012             9         2013   \n",
       "4     078 PCT               8           2018             2         2019   \n",
       "\n",
       "  command_at_incident rank_abbrev_incident rank_abbrev_now mos_ethnicity  \\\n",
       "0             078 PCT                  POM             POM      Hispanic   \n",
       "1                PBBS                  POM             POM         White   \n",
       "2                PBBS                  POM             POM         White   \n",
       "3                PBBS                  POM             POM         White   \n",
       "4             078 PCT                  POF             POF      Hispanic   \n",
       "\n",
       "  mos_gender  ...                                contact_reason  \\\n",
       "0          M  ...                       Report-domestic dispute   \n",
       "1          M  ...                              Moving violation   \n",
       "2          M  ...                              Moving violation   \n",
       "3          M  ...  PD suspected C/V of violation/crime - street   \n",
       "4          F  ...                                Report-dispute   \n",
       "\n",
       "                outcome_description                         board_disposition  \\\n",
       "0  No arrest made or summons issued  Substantiated (Command Lvl Instructions)   \n",
       "1   Moving violation summons issued                   Substantiated (Charges)   \n",
       "2   Moving violation summons issued                   Substantiated (Charges)   \n",
       "3  No arrest made or summons issued                   Substantiated (Charges)   \n",
       "4    Arrest - other violation/crime      Substantiated (Command Discipline A)   \n",
       "\n",
       "  Prec_Borough   date_received date_closed            reason_for_contact  \\\n",
       "0      Brooklyn     2019-07-01  2020-05-01     Report of Violation/Crime   \n",
       "1      Brooklyn     2011-11-01  2012-08-01              Moving Violation   \n",
       "2      Brooklyn     2011-11-01  2012-08-01              Moving Violation   \n",
       "3      Brooklyn     2012-07-01  2013-09-01  PD suspected Violation/Crime   \n",
       "4      Brooklyn     2018-08-01  2019-02-01     Report of Violation/Crime   \n",
       "\n",
       "  rank_num_now rank_num_incident rank_change  \n",
       "0          1.0               1.0         0.0  \n",
       "1          1.0               1.0         0.0  \n",
       "2          1.0               1.0         0.0  \n",
       "3          1.0               1.0         0.0  \n",
       "4          1.0               1.0         0.0  \n",
       "\n",
       "[5 rows x 25 columns]"
      ]
     },
     "execution_count": 30,
     "metadata": {},
     "output_type": "execute_result"
    }
   ],
   "source": [
    "columns_to_remove = ['Prec_Address','complainant_age_incident','unique_mos_id', 'shield_no', 'complaint_id','Latitude ', 'first_name', 'last_name', 'Longitude', 'rank_now', 'rank_incident', 'allegation']\n",
    "df = df.drop(columns=columns_to_remove)\n",
    "df.head()"
   ]
  },
  {
   "cell_type": "code",
   "execution_count": 31,
   "metadata": {
    "ExecuteTime": {
     "end_time": "2024-03-18T14:21:34.269972Z",
     "start_time": "2024-03-18T14:21:34.145460Z"
    }
   },
   "outputs": [],
   "source": [
    "columns_for_dummies = ['outcome_description', 'board_disposition', 'Prec_Borough ', 'reason_for_contact', 'mos_ethnicity', 'mos_gender', 'complainant_ethnicity', 'complainant_gender', 'fado_type']\n",
    "df = pd.get_dummies(df, columns=columns_for_dummies)"
   ]
  },
  {
   "cell_type": "code",
   "execution_count": 32,
   "metadata": {
    "ExecuteTime": {
     "end_time": "2024-03-18T14:21:53.064227Z",
     "start_time": "2024-03-18T14:21:52.914800Z"
    }
   },
   "outputs": [
    {
     "ename": "KeyError",
     "evalue": "\"['complainant_age_incident'] not found in axis\"",
     "output_type": "error",
     "traceback": [
      "\u001b[1;31m---------------------------------------------------------------------------\u001b[0m",
      "\u001b[1;31mKeyError\u001b[0m                                  Traceback (most recent call last)",
      "\u001b[1;32m~\\AppData\\Local\\Temp/ipykernel_8264/1806936186.py\u001b[0m in \u001b[0;36m<module>\u001b[1;34m\u001b[0m\n\u001b[1;32m----> 1\u001b[1;33m \u001b[0mdf\u001b[0m \u001b[1;33m=\u001b[0m \u001b[0mdf\u001b[0m\u001b[1;33m.\u001b[0m\u001b[0mdrop\u001b[0m\u001b[1;33m(\u001b[0m\u001b[1;34m'complainant_age_incident'\u001b[0m\u001b[1;33m,\u001b[0m \u001b[0maxis\u001b[0m\u001b[1;33m=\u001b[0m\u001b[1;36m1\u001b[0m\u001b[1;33m)\u001b[0m\u001b[1;33m\u001b[0m\u001b[1;33m\u001b[0m\u001b[0m\n\u001b[0m",
      "\u001b[1;32m~\\anaconda3\\lib\\site-packages\\pandas\\core\\frame.py\u001b[0m in \u001b[0;36mdrop\u001b[1;34m(self, labels, axis, index, columns, level, inplace, errors)\u001b[0m\n\u001b[0;32m   4161\u001b[0m                 \u001b[0mweight\u001b[0m  \u001b[1;36m1.0\u001b[0m     \u001b[1;36m0.8\u001b[0m\u001b[1;33m\u001b[0m\u001b[1;33m\u001b[0m\u001b[0m\n\u001b[0;32m   4162\u001b[0m         \"\"\"\n\u001b[1;32m-> 4163\u001b[1;33m         return super().drop(\n\u001b[0m\u001b[0;32m   4164\u001b[0m             \u001b[0mlabels\u001b[0m\u001b[1;33m=\u001b[0m\u001b[0mlabels\u001b[0m\u001b[1;33m,\u001b[0m\u001b[1;33m\u001b[0m\u001b[1;33m\u001b[0m\u001b[0m\n\u001b[0;32m   4165\u001b[0m             \u001b[0maxis\u001b[0m\u001b[1;33m=\u001b[0m\u001b[0maxis\u001b[0m\u001b[1;33m,\u001b[0m\u001b[1;33m\u001b[0m\u001b[1;33m\u001b[0m\u001b[0m\n",
      "\u001b[1;32m~\\anaconda3\\lib\\site-packages\\pandas\\core\\generic.py\u001b[0m in \u001b[0;36mdrop\u001b[1;34m(self, labels, axis, index, columns, level, inplace, errors)\u001b[0m\n\u001b[0;32m   3885\u001b[0m         \u001b[1;32mfor\u001b[0m \u001b[0maxis\u001b[0m\u001b[1;33m,\u001b[0m \u001b[0mlabels\u001b[0m \u001b[1;32min\u001b[0m \u001b[0maxes\u001b[0m\u001b[1;33m.\u001b[0m\u001b[0mitems\u001b[0m\u001b[1;33m(\u001b[0m\u001b[1;33m)\u001b[0m\u001b[1;33m:\u001b[0m\u001b[1;33m\u001b[0m\u001b[1;33m\u001b[0m\u001b[0m\n\u001b[0;32m   3886\u001b[0m             \u001b[1;32mif\u001b[0m \u001b[0mlabels\u001b[0m \u001b[1;32mis\u001b[0m \u001b[1;32mnot\u001b[0m \u001b[1;32mNone\u001b[0m\u001b[1;33m:\u001b[0m\u001b[1;33m\u001b[0m\u001b[1;33m\u001b[0m\u001b[0m\n\u001b[1;32m-> 3887\u001b[1;33m                 \u001b[0mobj\u001b[0m \u001b[1;33m=\u001b[0m \u001b[0mobj\u001b[0m\u001b[1;33m.\u001b[0m\u001b[0m_drop_axis\u001b[0m\u001b[1;33m(\u001b[0m\u001b[0mlabels\u001b[0m\u001b[1;33m,\u001b[0m \u001b[0maxis\u001b[0m\u001b[1;33m,\u001b[0m \u001b[0mlevel\u001b[0m\u001b[1;33m=\u001b[0m\u001b[0mlevel\u001b[0m\u001b[1;33m,\u001b[0m \u001b[0merrors\u001b[0m\u001b[1;33m=\u001b[0m\u001b[0merrors\u001b[0m\u001b[1;33m)\u001b[0m\u001b[1;33m\u001b[0m\u001b[1;33m\u001b[0m\u001b[0m\n\u001b[0m\u001b[0;32m   3888\u001b[0m \u001b[1;33m\u001b[0m\u001b[0m\n\u001b[0;32m   3889\u001b[0m         \u001b[1;32mif\u001b[0m \u001b[0minplace\u001b[0m\u001b[1;33m:\u001b[0m\u001b[1;33m\u001b[0m\u001b[1;33m\u001b[0m\u001b[0m\n",
      "\u001b[1;32m~\\anaconda3\\lib\\site-packages\\pandas\\core\\generic.py\u001b[0m in \u001b[0;36m_drop_axis\u001b[1;34m(self, labels, axis, level, errors)\u001b[0m\n\u001b[0;32m   3919\u001b[0m                 \u001b[0mnew_axis\u001b[0m \u001b[1;33m=\u001b[0m \u001b[0maxis\u001b[0m\u001b[1;33m.\u001b[0m\u001b[0mdrop\u001b[0m\u001b[1;33m(\u001b[0m\u001b[0mlabels\u001b[0m\u001b[1;33m,\u001b[0m \u001b[0mlevel\u001b[0m\u001b[1;33m=\u001b[0m\u001b[0mlevel\u001b[0m\u001b[1;33m,\u001b[0m \u001b[0merrors\u001b[0m\u001b[1;33m=\u001b[0m\u001b[0merrors\u001b[0m\u001b[1;33m)\u001b[0m\u001b[1;33m\u001b[0m\u001b[1;33m\u001b[0m\u001b[0m\n\u001b[0;32m   3920\u001b[0m             \u001b[1;32melse\u001b[0m\u001b[1;33m:\u001b[0m\u001b[1;33m\u001b[0m\u001b[1;33m\u001b[0m\u001b[0m\n\u001b[1;32m-> 3921\u001b[1;33m                 \u001b[0mnew_axis\u001b[0m \u001b[1;33m=\u001b[0m \u001b[0maxis\u001b[0m\u001b[1;33m.\u001b[0m\u001b[0mdrop\u001b[0m\u001b[1;33m(\u001b[0m\u001b[0mlabels\u001b[0m\u001b[1;33m,\u001b[0m \u001b[0merrors\u001b[0m\u001b[1;33m=\u001b[0m\u001b[0merrors\u001b[0m\u001b[1;33m)\u001b[0m\u001b[1;33m\u001b[0m\u001b[1;33m\u001b[0m\u001b[0m\n\u001b[0m\u001b[0;32m   3922\u001b[0m             \u001b[0mresult\u001b[0m \u001b[1;33m=\u001b[0m \u001b[0mself\u001b[0m\u001b[1;33m.\u001b[0m\u001b[0mreindex\u001b[0m\u001b[1;33m(\u001b[0m\u001b[1;33m**\u001b[0m\u001b[1;33m{\u001b[0m\u001b[0maxis_name\u001b[0m\u001b[1;33m:\u001b[0m \u001b[0mnew_axis\u001b[0m\u001b[1;33m}\u001b[0m\u001b[1;33m)\u001b[0m\u001b[1;33m\u001b[0m\u001b[1;33m\u001b[0m\u001b[0m\n\u001b[0;32m   3923\u001b[0m \u001b[1;33m\u001b[0m\u001b[0m\n",
      "\u001b[1;32m~\\anaconda3\\lib\\site-packages\\pandas\\core\\indexes\\base.py\u001b[0m in \u001b[0;36mdrop\u001b[1;34m(self, labels, errors)\u001b[0m\n\u001b[0;32m   5280\u001b[0m         \u001b[1;32mif\u001b[0m \u001b[0mmask\u001b[0m\u001b[1;33m.\u001b[0m\u001b[0many\u001b[0m\u001b[1;33m(\u001b[0m\u001b[1;33m)\u001b[0m\u001b[1;33m:\u001b[0m\u001b[1;33m\u001b[0m\u001b[1;33m\u001b[0m\u001b[0m\n\u001b[0;32m   5281\u001b[0m             \u001b[1;32mif\u001b[0m \u001b[0merrors\u001b[0m \u001b[1;33m!=\u001b[0m \u001b[1;34m\"ignore\"\u001b[0m\u001b[1;33m:\u001b[0m\u001b[1;33m\u001b[0m\u001b[1;33m\u001b[0m\u001b[0m\n\u001b[1;32m-> 5282\u001b[1;33m                 \u001b[1;32mraise\u001b[0m \u001b[0mKeyError\u001b[0m\u001b[1;33m(\u001b[0m\u001b[1;34mf\"{labels[mask]} not found in axis\"\u001b[0m\u001b[1;33m)\u001b[0m\u001b[1;33m\u001b[0m\u001b[1;33m\u001b[0m\u001b[0m\n\u001b[0m\u001b[0;32m   5283\u001b[0m             \u001b[0mindexer\u001b[0m \u001b[1;33m=\u001b[0m \u001b[0mindexer\u001b[0m\u001b[1;33m[\u001b[0m\u001b[1;33m~\u001b[0m\u001b[0mmask\u001b[0m\u001b[1;33m]\u001b[0m\u001b[1;33m\u001b[0m\u001b[1;33m\u001b[0m\u001b[0m\n\u001b[0;32m   5284\u001b[0m         \u001b[1;32mreturn\u001b[0m \u001b[0mself\u001b[0m\u001b[1;33m.\u001b[0m\u001b[0mdelete\u001b[0m\u001b[1;33m(\u001b[0m\u001b[0mindexer\u001b[0m\u001b[1;33m)\u001b[0m\u001b[1;33m\u001b[0m\u001b[1;33m\u001b[0m\u001b[0m\n",
      "\u001b[1;31mKeyError\u001b[0m: \"['complainant_age_incident'] not found in axis\""
     ]
    }
   ],
   "source": [
    "df = df.drop('complainant_age_incident', axis=1)"
   ]
  },
  {
   "cell_type": "code",
   "execution_count": 33,
   "metadata": {
    "ExecuteTime": {
     "end_time": "2024-03-18T14:21:57.988743Z",
     "start_time": "2024-03-18T14:21:57.947342Z"
    }
   },
   "outputs": [
    {
     "data": {
      "text/plain": [
       "(33358, 83)"
      ]
     },
     "execution_count": 33,
     "metadata": {},
     "output_type": "execute_result"
    }
   ],
   "source": [
    "numeric_columns = df.select_dtypes(include=['number']).columns\n",
    "dfready = df[numeric_columns]\n",
    "dfready.shape"
   ]
  },
  {
   "cell_type": "code",
   "execution_count": 34,
   "metadata": {
    "ExecuteTime": {
     "end_time": "2024-03-18T14:21:59.516902Z",
     "start_time": "2024-03-18T14:21:59.439489Z"
    }
   },
   "outputs": [
    {
     "data": {
      "text/plain": [
       "(32827, 83)"
      ]
     },
     "execution_count": 34,
     "metadata": {},
     "output_type": "execute_result"
    }
   ],
   "source": [
    "dfready = dfready.dropna()\n",
    "dfready.shape"
   ]
  },
  {
   "cell_type": "code",
   "execution_count": 35,
   "metadata": {
    "ExecuteTime": {
     "end_time": "2024-03-18T14:22:05.214648Z",
     "start_time": "2024-03-18T14:22:02.541880Z"
    },
    "scrolled": true
   },
   "outputs": [],
   "source": [
    "from sklearn.feature_selection import RFE\n",
    "from sklearn.linear_model import LogisticRegression"
   ]
  },
  {
   "cell_type": "code",
   "execution_count": 36,
   "metadata": {
    "ExecuteTime": {
     "end_time": "2024-03-18T14:22:08.253687Z",
     "start_time": "2024-03-18T14:22:06.135459Z"
    }
   },
   "outputs": [],
   "source": [
    "import statsmodels.api as sm"
   ]
  },
  {
   "cell_type": "code",
   "execution_count": 37,
   "metadata": {
    "ExecuteTime": {
     "end_time": "2024-03-18T14:22:09.920416Z",
     "start_time": "2024-03-18T14:22:09.193111Z"
    }
   },
   "outputs": [],
   "source": [
    "import pandas as pd\n",
    "from sklearn.model_selection import train_test_split\n",
    "from sklearn.ensemble import RandomForestClassifier\n",
    "from sklearn.feature_selection import SelectFromModel\n",
    "from sklearn.metrics import classification_report\n"
   ]
  },
  {
   "cell_type": "code",
   "execution_count": 38,
   "metadata": {
    "ExecuteTime": {
     "end_time": "2024-03-18T14:22:11.050791Z",
     "start_time": "2024-03-18T14:22:11.025496Z"
    }
   },
   "outputs": [],
   "source": [
    "X = dfready.drop('rank_change', axis=1)\n",
    "y = dfready['rank_change']"
   ]
  },
  {
   "cell_type": "code",
   "execution_count": 39,
   "metadata": {
    "ExecuteTime": {
     "end_time": "2024-03-18T14:22:13.333561Z",
     "start_time": "2024-03-18T14:22:13.269158Z"
    }
   },
   "outputs": [],
   "source": [
    "X_train, X_test, y_train, y_test = train_test_split(X, y, test_size=0.2, random_state=42)\n"
   ]
  },
  {
   "cell_type": "code",
   "execution_count": 40,
   "metadata": {
    "ExecuteTime": {
     "end_time": "2024-03-18T14:22:21.450046Z",
     "start_time": "2024-03-18T14:22:14.288171Z"
    },
    "scrolled": true
   },
   "outputs": [
    {
     "data": {
      "text/html": [
       "<style>#sk-container-id-1 {color: black;background-color: white;}#sk-container-id-1 pre{padding: 0;}#sk-container-id-1 div.sk-toggleable {background-color: white;}#sk-container-id-1 label.sk-toggleable__label {cursor: pointer;display: block;width: 100%;margin-bottom: 0;padding: 0.3em;box-sizing: border-box;text-align: center;}#sk-container-id-1 label.sk-toggleable__label-arrow:before {content: \"▸\";float: left;margin-right: 0.25em;color: #696969;}#sk-container-id-1 label.sk-toggleable__label-arrow:hover:before {color: black;}#sk-container-id-1 div.sk-estimator:hover label.sk-toggleable__label-arrow:before {color: black;}#sk-container-id-1 div.sk-toggleable__content {max-height: 0;max-width: 0;overflow: hidden;text-align: left;background-color: #f0f8ff;}#sk-container-id-1 div.sk-toggleable__content pre {margin: 0.2em;color: black;border-radius: 0.25em;background-color: #f0f8ff;}#sk-container-id-1 input.sk-toggleable__control:checked~div.sk-toggleable__content {max-height: 200px;max-width: 100%;overflow: auto;}#sk-container-id-1 input.sk-toggleable__control:checked~label.sk-toggleable__label-arrow:before {content: \"▾\";}#sk-container-id-1 div.sk-estimator input.sk-toggleable__control:checked~label.sk-toggleable__label {background-color: #d4ebff;}#sk-container-id-1 div.sk-label input.sk-toggleable__control:checked~label.sk-toggleable__label {background-color: #d4ebff;}#sk-container-id-1 input.sk-hidden--visually {border: 0;clip: rect(1px 1px 1px 1px);clip: rect(1px, 1px, 1px, 1px);height: 1px;margin: -1px;overflow: hidden;padding: 0;position: absolute;width: 1px;}#sk-container-id-1 div.sk-estimator {font-family: monospace;background-color: #f0f8ff;border: 1px dotted black;border-radius: 0.25em;box-sizing: border-box;margin-bottom: 0.5em;}#sk-container-id-1 div.sk-estimator:hover {background-color: #d4ebff;}#sk-container-id-1 div.sk-parallel-item::after {content: \"\";width: 100%;border-bottom: 1px solid gray;flex-grow: 1;}#sk-container-id-1 div.sk-label:hover label.sk-toggleable__label {background-color: #d4ebff;}#sk-container-id-1 div.sk-serial::before {content: \"\";position: absolute;border-left: 1px solid gray;box-sizing: border-box;top: 0;bottom: 0;left: 50%;z-index: 0;}#sk-container-id-1 div.sk-serial {display: flex;flex-direction: column;align-items: center;background-color: white;padding-right: 0.2em;padding-left: 0.2em;position: relative;}#sk-container-id-1 div.sk-item {position: relative;z-index: 1;}#sk-container-id-1 div.sk-parallel {display: flex;align-items: stretch;justify-content: center;background-color: white;position: relative;}#sk-container-id-1 div.sk-item::before, #sk-container-id-1 div.sk-parallel-item::before {content: \"\";position: absolute;border-left: 1px solid gray;box-sizing: border-box;top: 0;bottom: 0;left: 50%;z-index: -1;}#sk-container-id-1 div.sk-parallel-item {display: flex;flex-direction: column;z-index: 1;position: relative;background-color: white;}#sk-container-id-1 div.sk-parallel-item:first-child::after {align-self: flex-end;width: 50%;}#sk-container-id-1 div.sk-parallel-item:last-child::after {align-self: flex-start;width: 50%;}#sk-container-id-1 div.sk-parallel-item:only-child::after {width: 0;}#sk-container-id-1 div.sk-dashed-wrapped {border: 1px dashed gray;margin: 0 0.4em 0.5em 0.4em;box-sizing: border-box;padding-bottom: 0.4em;background-color: white;}#sk-container-id-1 div.sk-label label {font-family: monospace;font-weight: bold;display: inline-block;line-height: 1.2em;}#sk-container-id-1 div.sk-label-container {text-align: center;}#sk-container-id-1 div.sk-container {/* jupyter's `normalize.less` sets `[hidden] { display: none; }` but bootstrap.min.css set `[hidden] { display: none !important; }` so we also need the `!important` here to be able to override the default hidden behavior on the sphinx rendered scikit-learn.org. See: https://github.com/scikit-learn/scikit-learn/issues/21755 */display: inline-block !important;position: relative;}#sk-container-id-1 div.sk-text-repr-fallback {display: none;}</style><div id=\"sk-container-id-1\" class=\"sk-top-container\"><div class=\"sk-text-repr-fallback\"><pre>RandomForestClassifier(random_state=42)</pre><b>In a Jupyter environment, please rerun this cell to show the HTML representation or trust the notebook. <br />On GitHub, the HTML representation is unable to render, please try loading this page with nbviewer.org.</b></div><div class=\"sk-container\" hidden><div class=\"sk-item\"><div class=\"sk-estimator sk-toggleable\"><input class=\"sk-toggleable__control sk-hidden--visually\" id=\"sk-estimator-id-1\" type=\"checkbox\" checked><label for=\"sk-estimator-id-1\" class=\"sk-toggleable__label sk-toggleable__label-arrow\">RandomForestClassifier</label><div class=\"sk-toggleable__content\"><pre>RandomForestClassifier(random_state=42)</pre></div></div></div></div></div>"
      ],
      "text/plain": [
       "RandomForestClassifier(random_state=42)"
      ]
     },
     "execution_count": 40,
     "metadata": {},
     "output_type": "execute_result"
    }
   ],
   "source": [
    "clf = RandomForestClassifier(n_estimators=100, random_state=42)\n",
    "clf.fit(X_train, y_train)\n"
   ]
  },
  {
   "cell_type": "code",
   "execution_count": 42,
   "metadata": {
    "ExecuteTime": {
     "end_time": "2024-03-18T14:22:58.605281Z",
     "start_time": "2024-03-18T14:22:50.598524Z"
    }
   },
   "outputs": [
    {
     "name": "stdout",
     "output_type": "stream",
     "text": [
      "              precision    recall  f1-score   support\n",
      "\n",
      "        -2.0       1.00      0.58      0.74        12\n",
      "        -1.0       1.00      0.67      0.80        18\n",
      "         0.0       0.99      1.00      0.99      3609\n",
      "         1.0       1.00      0.98      0.99      1515\n",
      "         2.0       0.98      0.99      0.99       757\n",
      "         3.0       0.97      0.98      0.97       327\n",
      "         4.0       1.00      0.85      0.92        61\n",
      "         5.0       0.95      0.95      0.95       218\n",
      "         6.0       1.00      0.71      0.83        41\n",
      "         7.0       1.00      0.88      0.93         8\n",
      "\n",
      "    accuracy                           0.99      6566\n",
      "   macro avg       0.99      0.86      0.91      6566\n",
      "weighted avg       0.99      0.99      0.99      6566\n",
      "\n"
     ]
    }
   ],
   "source": [
    "from sklearn.preprocessing import StandardScaler\n",
    "from sklearn.preprocessing import PolynomialFeatures\n",
    "\n",
    "from sklearn.preprocessing import MinMaxScaler\n",
    "\n",
    "# Feature Scaling using Min-Max Scaling\n",
    "scaler = MinMaxScaler()\n",
    "X_scaled = scaler.fit_transform(X)\n",
    "\n",
    "# Split data into training and testing sets\n",
    "X_train, X_test, y_train, y_test = train_test_split(X_scaled, y, test_size=0.2, random_state=42)\n",
    "\n",
    "# Train a new model on the scaled features\n",
    "clf = RandomForestClassifier(n_estimators=100, random_state=42)\n",
    "clf.fit(X_train, y_train)\n",
    "\n",
    "# Evaluate the model's performance\n",
    "y_pred = clf.predict(X_test)\n",
    "print(classification_report(y_test, y_pred))"
   ]
  },
  {
   "cell_type": "code",
   "execution_count": 89,
   "metadata": {
    "ExecuteTime": {
     "end_time": "2024-03-15T17:42:44.455373Z",
     "start_time": "2024-03-15T17:42:44.384984Z"
    }
   },
   "outputs": [],
   "source": [
    "feature_selection_model = SelectFromModel(clf, prefit=True, max_features=20)\n",
    "selected_features = X.columns[feature_selection_model.get_support()]\n"
   ]
  },
  {
   "cell_type": "code",
   "execution_count": 90,
   "metadata": {
    "ExecuteTime": {
     "end_time": "2024-03-15T17:42:49.292664Z",
     "start_time": "2024-03-15T17:42:48.901862Z"
    },
    "scrolled": true
   },
   "outputs": [
    {
     "name": "stdout",
     "output_type": "stream",
     "text": [
      "              precision    recall  f1-score   support\n",
      "\n",
      "        -2.0       1.00      0.58      0.74        12\n",
      "        -1.0       1.00      0.67      0.80        18\n",
      "         0.0       0.99      1.00      0.99      3609\n",
      "         1.0       1.00      0.98      0.99      1515\n",
      "         2.0       0.98      0.99      0.99       757\n",
      "         3.0       0.96      0.98      0.97       327\n",
      "         4.0       1.00      0.84      0.91        61\n",
      "         5.0       0.95      0.95      0.95       218\n",
      "         6.0       1.00      0.71      0.83        41\n",
      "         7.0       1.00      0.88      0.93         8\n",
      "\n",
      "    accuracy                           0.99      6566\n",
      "   macro avg       0.99      0.86      0.91      6566\n",
      "weighted avg       0.99      0.99      0.99      6566\n",
      "\n"
     ]
    }
   ],
   "source": [
    "y_pred = clf.predict(X_test)\n",
    "print(classification_report(y_test, y_pred))\n"
   ]
  },
  {
   "cell_type": "code",
   "execution_count": 43,
   "metadata": {
    "ExecuteTime": {
     "end_time": "2024-03-18T14:25:30.907826Z",
     "start_time": "2024-03-18T14:25:15.455747Z"
    },
    "scrolled": true
   },
   "outputs": [
    {
     "name": "stdout",
     "output_type": "stream",
     "text": [
      "              precision    recall  f1-score   support\n",
      "\n",
      "        -2.0       1.00      0.50      0.67        12\n",
      "        -1.0       1.00      0.44      0.62        18\n",
      "         0.0       0.99      1.00      0.99      3609\n",
      "         1.0       0.99      0.98      0.99      1515\n",
      "         2.0       0.98      0.99      0.98       757\n",
      "         3.0       0.96      0.96      0.96       327\n",
      "         4.0       1.00      0.84      0.91        61\n",
      "         5.0       0.96      0.93      0.94       218\n",
      "         6.0       1.00      0.71      0.83        41\n",
      "         7.0       1.00      0.88      0.93         8\n",
      "\n",
      "    accuracy                           0.98      6566\n",
      "   macro avg       0.99      0.82      0.88      6566\n",
      "weighted avg       0.98      0.98      0.98      6566\n",
      "\n"
     ]
    }
   ],
   "source": [
    "from sklearn.feature_selection import SelectFromModel\n",
    "\n",
    "# Train a new model on the scaled features\n",
    "clf = RandomForestClassifier(n_estimators=100, random_state=42)\n",
    "clf.fit(X_train, y_train)\n",
    "\n",
    "# Feature selection based on feature importances\n",
    "feature_importances = clf.feature_importances_\n",
    "indices = np.argsort(feature_importances)[::-1]\n",
    "top_10_indices = indices[:80]\n",
    "X_train_selected = X_train[:, top_10_indices]\n",
    "X_test_selected = X_test[:, top_10_indices]\n",
    "\n",
    "# Train a new model on the selected features\n",
    "clf_selected = RandomForestClassifier(n_estimators=100, random_state=42)\n",
    "clf_selected.fit(X_train_selected, y_train)\n",
    "\n",
    "# Evaluate the model's performance\n",
    "y_pred_selected = clf_selected.predict(X_test_selected)\n",
    "print(classification_report(y_test, y_pred_selected))"
   ]
  },
  {
   "cell_type": "code",
   "execution_count": 44,
   "metadata": {
    "ExecuteTime": {
     "end_time": "2024-03-18T14:26:17.480527Z",
     "start_time": "2024-03-18T14:25:49.442888Z"
    }
   },
   "outputs": [
    {
     "name": "stdout",
     "output_type": "stream",
     "text": [
      "              precision    recall  f1-score   support\n",
      "\n",
      "        -2.0       1.00      0.42      0.59        12\n",
      "        -1.0       1.00      0.50      0.67        18\n",
      "         0.0       0.89      0.95      0.92      3609\n",
      "         1.0       0.82      0.83      0.83      1515\n",
      "         2.0       0.85      0.73      0.78       757\n",
      "         3.0       0.95      0.70      0.80       327\n",
      "         4.0       0.98      0.67      0.80        61\n",
      "         5.0       0.86      0.72      0.79       218\n",
      "         6.0       0.94      0.78      0.85        41\n",
      "         7.0       0.75      0.75      0.75         8\n",
      "\n",
      "    accuracy                           0.87      6566\n",
      "   macro avg       0.90      0.71      0.78      6566\n",
      "weighted avg       0.87      0.87      0.87      6566\n",
      "\n"
     ]
    }
   ],
   "source": [
    "from sklearn.feature_selection import SelectFromModel\n",
    "\n",
    "# Get the indices of 'rank_num_now' and 'rank_num_incident'\n",
    "rank_num_now_index = X.columns.get_loc('rank_num_now')\n",
    "rank_num_incident_index = X.columns.get_loc('rank_num_incident')\n",
    "\n",
    "# Drop the columns 'rank_num_now' and 'rank_num_incident' from the feature matrix\n",
    "X_train_selected = np.delete(X_train, [rank_num_now_index, rank_num_incident_index], axis=1)\n",
    "X_test_selected = np.delete(X_test, [rank_num_now_index, rank_num_incident_index], axis=1)\n",
    "\n",
    "# Train a Random Forest classifier\n",
    "clf = RandomForestClassifier(n_estimators=100, random_state=46)\n",
    "clf.fit(X_train_selected, y_train)\n",
    "\n",
    "# Perform feature selection\n",
    "feature_selection_model = SelectFromModel(clf, threshold=-np.inf, max_features=10)\n",
    "feature_selection_model.fit(X_train_selected, y_train)\n",
    "\n",
    "# Get selected feature indices\n",
    "selected_feature_indices = feature_selection_model.get_support(indices=True)\n",
    "\n",
    "# Select top features\n",
    "X_train_selected = X_train_selected[:, selected_feature_indices]\n",
    "X_test_selected = X_test_selected[:, selected_feature_indices]\n",
    "\n",
    "# Train a new model on the selected features\n",
    "clf_selected = RandomForestClassifier(n_estimators=100, random_state=46)\n",
    "clf_selected.fit(X_train_selected, y_train)\n",
    "\n",
    "# Evaluate the model's performance\n",
    "y_pred_selected = clf_selected.predict(X_test_selected)\n",
    "print(classification_report(y_test, y_pred_selected))"
   ]
  },
  {
   "cell_type": "code",
   "execution_count": 48,
   "metadata": {
    "ExecuteTime": {
     "end_time": "2024-03-18T14:51:35.336153Z",
     "start_time": "2024-03-18T14:51:35.263943Z"
    }
   },
   "outputs": [
    {
     "name": "stdout",
     "output_type": "stream",
     "text": [
      "Top 5 Features:\n",
      "Index(['mos_age_incident', 'year_received', 'year_closed', 'precinct',\n",
      "       'month_received'],\n",
      "      dtype='object')\n"
     ]
    }
   ],
   "source": [
    "feature_importances = clf.feature_importances_\n",
    "\n",
    "# Sort feature importances in descending order\n",
    "indices = np.argsort(feature_importances)[::-1]\n",
    "\n",
    "# Select the top 20 features\n",
    "top_20_indices = indices[:5]\n",
    "top_20_features = X.columns[top_20_indices]\n",
    "\n",
    "# Print top selected features\n",
    "print(\"Top 5 Features:\")\n",
    "print(top_20_features)"
   ]
  },
  {
   "cell_type": "code",
   "execution_count": null,
   "metadata": {},
   "outputs": [],
   "source": []
  }
 ],
 "metadata": {
  "hide_input": false,
  "kernelspec": {
   "display_name": "Python 3 (ipykernel)",
   "language": "python",
   "name": "python3"
  },
  "language_info": {
   "codemirror_mode": {
    "name": "ipython",
    "version": 3
   },
   "file_extension": ".py",
   "mimetype": "text/x-python",
   "name": "python",
   "nbconvert_exporter": "python",
   "pygments_lexer": "ipython3",
   "version": "3.8.5"
  },
  "toc": {
   "base_numbering": 1,
   "nav_menu": {},
   "number_sections": true,
   "sideBar": true,
   "skip_h1_title": false,
   "title_cell": "Table of Contents",
   "title_sidebar": "Contents",
   "toc_cell": false,
   "toc_position": {},
   "toc_section_display": true,
   "toc_window_display": false
  },
  "varInspector": {
   "cols": {
    "lenName": 16,
    "lenType": 16,
    "lenVar": 40
   },
   "kernels_config": {
    "python": {
     "delete_cmd_postfix": "",
     "delete_cmd_prefix": "del ",
     "library": "var_list.py",
     "varRefreshCmd": "print(var_dic_list())"
    },
    "r": {
     "delete_cmd_postfix": ") ",
     "delete_cmd_prefix": "rm(",
     "library": "var_list.r",
     "varRefreshCmd": "cat(var_dic_list()) "
    }
   },
   "types_to_exclude": [
    "module",
    "function",
    "builtin_function_or_method",
    "instance",
    "_Feature"
   ],
   "window_display": false
  }
 },
 "nbformat": 4,
 "nbformat_minor": 5
}
